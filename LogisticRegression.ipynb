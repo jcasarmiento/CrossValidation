{
 "cells": [
  {
   "attachments": {},
   "cell_type": "markdown",
   "metadata": {},
   "source": [
    "# Cross validation application in logistic regression algorithm"
   ]
  },
  {
   "cell_type": "code",
   "execution_count": 1,
   "metadata": {},
   "outputs": [],
   "source": [
    "import numpy as np\n",
    "import pandas as pd"
   ]
  },
  {
   "attachments": {},
   "cell_type": "markdown",
   "metadata": {},
   "source": [
    "### Dataset\n",
    "\n",
    "Dataset used is Speed Dating dataset from kaggle: https://www.kaggle.com/datasets/ulrikthygepedersen/speed-dating\n",
    "\n",
    "The objective is to predict wether two people matched or not after their first date."
   ]
  },
  {
   "cell_type": "code",
   "execution_count": 8,
   "metadata": {},
   "outputs": [],
   "source": [
    "df=pd.read_csv(\"speeddating.csv\",header=0)"
   ]
  },
  {
   "cell_type": "code",
   "execution_count": 10,
   "metadata": {},
   "outputs": [
    {
     "name": "stdout",
     "output_type": "stream",
     "text": [
      "<class 'pandas.core.frame.DataFrame'>\n",
      "RangeIndex: 8378 entries, 0 to 8377\n",
      "Data columns (total 123 columns):\n",
      " #    Column                           Dtype  \n",
      "---   ------                           -----  \n",
      " 0    has_null                         object \n",
      " 1    wave                             float64\n",
      " 2    gender                           object \n",
      " 3    age                              float64\n",
      " 4    age_o                            float64\n",
      " 5    d_age                            float64\n",
      " 6    d_d_age                          object \n",
      " 7    race                             object \n",
      " 8    race_o                           object \n",
      " 9    samerace                         object \n",
      " 10   importance_same_race             float64\n",
      " 11   importance_same_religion         float64\n",
      " 12   d_importance_same_race           object \n",
      " 13   d_importance_same_religion       object \n",
      " 14   field                            object \n",
      " 15   pref_o_attractive                float64\n",
      " 16   pref_o_sincere                   float64\n",
      " 17   pref_o_intelligence              float64\n",
      " 18   pref_o_funny                     float64\n",
      " 19   pref_o_ambitious                 float64\n",
      " 20   pref_o_shared_interests          float64\n",
      " 21   d_pref_o_attractive              object \n",
      " 22   d_pref_o_sincere                 object \n",
      " 23   d_pref_o_intelligence            object \n",
      " 24   d_pref_o_funny                   object \n",
      " 25   d_pref_o_ambitious               object \n",
      " 26   d_pref_o_shared_interests        object \n",
      " 27   attractive_o                     float64\n",
      " 28   sinsere_o                        float64\n",
      " 29   intelligence_o                   float64\n",
      " 30   funny_o                          float64\n",
      " 31   ambitous_o                       float64\n",
      " 32   shared_interests_o               float64\n",
      " 33   d_attractive_o                   object \n",
      " 34   d_sinsere_o                      object \n",
      " 35   d_intelligence_o                 object \n",
      " 36   d_funny_o                        object \n",
      " 37   d_ambitous_o                     object \n",
      " 38   d_shared_interests_o             object \n",
      " 39   attractive_important             float64\n",
      " 40   sincere_important                float64\n",
      " 41   intellicence_important           float64\n",
      " 42   funny_important                  float64\n",
      " 43   ambtition_important              float64\n",
      " 44   shared_interests_important       float64\n",
      " 45   d_attractive_important           object \n",
      " 46   d_sincere_important              object \n",
      " 47   d_intellicence_important         object \n",
      " 48   d_funny_important                object \n",
      " 49   d_ambtition_important            object \n",
      " 50   d_shared_interests_important     object \n",
      " 51   attractive                       float64\n",
      " 52   sincere                          float64\n",
      " 53   intelligence                     float64\n",
      " 54   funny                            float64\n",
      " 55   ambition                         float64\n",
      " 56   d_attractive                     object \n",
      " 57   d_sincere                        object \n",
      " 58   d_intelligence                   object \n",
      " 59   d_funny                          object \n",
      " 60   d_ambition                       object \n",
      " 61   attractive_partner               float64\n",
      " 62   sincere_partner                  float64\n",
      " 63   intelligence_partner             float64\n",
      " 64   funny_partner                    float64\n",
      " 65   ambition_partner                 float64\n",
      " 66   shared_interests_partner         float64\n",
      " 67   d_attractive_partner             object \n",
      " 68   d_sincere_partner                object \n",
      " 69   d_intelligence_partner           object \n",
      " 70   d_funny_partner                  object \n",
      " 71   d_ambition_partner               object \n",
      " 72   d_shared_interests_partner       object \n",
      " 73   sports                           float64\n",
      " 74   tvsports                         float64\n",
      " 75   exercise                         float64\n",
      " 76   dining                           float64\n",
      " 77   museums                          float64\n",
      " 78   art                              float64\n",
      " 79   hiking                           float64\n",
      " 80   gaming                           float64\n",
      " 81   clubbing                         float64\n",
      " 82   reading                          float64\n",
      " 83   tv                               float64\n",
      " 84   theater                          float64\n",
      " 85   movies                           float64\n",
      " 86   concerts                         float64\n",
      " 87   music                            float64\n",
      " 88   shopping                         float64\n",
      " 89   yoga                             float64\n",
      " 90   d_sports                         object \n",
      " 91   d_tvsports                       object \n",
      " 92   d_exercise                       object \n",
      " 93   d_dining                         object \n",
      " 94   d_museums                        object \n",
      " 95   d_art                            object \n",
      " 96   d_hiking                         object \n",
      " 97   d_gaming                         object \n",
      " 98   d_clubbing                       object \n",
      " 99   d_reading                        object \n",
      " 100  d_tv                             object \n",
      " 101  d_theater                        object \n",
      " 102  d_movies                         object \n",
      " 103  d_concerts                       object \n",
      " 104  d_music                          object \n",
      " 105  d_shopping                       object \n",
      " 106  d_yoga                           object \n",
      " 107  interests_correlate              float64\n",
      " 108  d_interests_correlate            object \n",
      " 109  expected_happy_with_sd_people    float64\n",
      " 110  expected_num_interested_in_me    float64\n",
      " 111  expected_num_matches             float64\n",
      " 112  d_expected_happy_with_sd_people  object \n",
      " 113  d_expected_num_interested_in_me  object \n",
      " 114  d_expected_num_matches           object \n",
      " 115  like                             float64\n",
      " 116  guess_prob_liked                 float64\n",
      " 117  d_like                           object \n",
      " 118  d_guess_prob_liked               object \n",
      " 119  met                              float64\n",
      " 120  decision                         object \n",
      " 121  decision_o                       object \n",
      " 122  match                            object \n",
      "dtypes: float64(59), object(64)\n",
      "memory usage: 7.9+ MB\n"
     ]
    }
   ],
   "source": [
    "df.info(verbose=True)"
   ]
  },
  {
   "attachments": {},
   "cell_type": "markdown",
   "metadata": {},
   "source": [
    "See the file [speeddatingcolumns.txt](speeddatingcolumns.txt) to see descriptions of the columns, it's a summary of the description from Kaggle as it doesn't downloads it with the data.\n",
    "\n",
    "From the descriptions is apparent that the columns with type float is a ranking maybe 1-10 or 1-100 (must review the max values to be sure on that one). On the other part, most of the object type columns are groupings of the numerical values. Other columns such as gender and the match are objects. Maybe I'll try to drop all the object type columns but the gender and match, which the later one is the labels for the training."
   ]
  },
  {
   "cell_type": "code",
   "execution_count": null,
   "metadata": {},
   "outputs": [],
   "source": []
  }
 ],
 "metadata": {
  "kernelspec": {
   "display_name": "data_science_conda",
   "language": "python",
   "name": "data_science_conda"
  },
  "language_info": {
   "codemirror_mode": {
    "name": "ipython",
    "version": 3
   },
   "file_extension": ".py",
   "mimetype": "text/x-python",
   "name": "python",
   "nbconvert_exporter": "python",
   "pygments_lexer": "ipython3",
   "version": "3.9.16"
  },
  "orig_nbformat": 4
 },
 "nbformat": 4,
 "nbformat_minor": 2
}
